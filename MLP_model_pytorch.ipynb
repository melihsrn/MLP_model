{
 "cells": [
  {
   "cell_type": "code",
   "execution_count": 2,
   "metadata": {},
   "outputs": [],
   "source": [
    "# To utilize tensors\n",
    "# pip install torchvision\n",
    "# pip install torchmetrics\n",
    "import torch\n",
    "from torch.utils import data\n",
    "from torch import Tensor\n",
    "from torch import nn\n",
    "from torch.nn.parameter import Parameter\n",
    "from torch.nn import init\n",
    "from torch.nn import Module\n",
    "\n",
    "# These are for some manipulation operations\n",
    "import math\n",
    "import matplotlib.pyplot as plt\n",
    "import numpy\n",
    "import pandas"
   ]
  },
  {
   "cell_type": "code",
   "execution_count": 3,
   "metadata": {},
   "outputs": [
    {
     "name": "stdout",
     "output_type": "stream",
     "text": [
      "60000\n",
      "10000\n",
      "600\n",
      "100\n",
      "torch.Size([100, 1, 28, 28])\n",
      "torch.Size([100, 784])\n",
      "torch.Size([100])\n"
     ]
    }
   ],
   "source": [
    "# Some libraries for a data to load from\n",
    "import torchvision\n",
    "import torchvision.datasets as datasets\n",
    "from torchvision import transforms\n",
    "\n",
    "transform = transforms.Compose([ # Transoforms the data to Tensor\n",
    "    transforms.ToTensor()\n",
    "])\n",
    "\n",
    "# Load MNIST Dataset\n",
    "mnist_trainset = datasets.MNIST(root='./data', train=True, download=True, transform=transform) # Train = True means Training Set\n",
    "mnist_testset = datasets.MNIST(root='./data', train=False, download=True, transform=transform) # Train = False means Test Set\n",
    "print(len(mnist_trainset)) # Size of mnist trainset is 60000\n",
    "print(len(mnist_testset)) # Size of mnist testset is 10000\n",
    "\n",
    "# Assigning Some Values Beforehand\n",
    "\n",
    "batch_size = 100\n",
    "n_iters = 3000\n",
    "input_dim = 784\n",
    "output_dim = 10\n",
    "lr_rate = 0.1\n",
    "\n",
    "# Construct minibatches from train_dataloaders and test_dataloader = [ (x1,y1), (x2,y2), ... ] \n",
    "# (xi,yi) are minibatch pairs of size 100 samples each\n",
    "# Each sample in a minibatch pair (xi,yi) is of size 784 and 1 for x and y\n",
    "from torch.utils.data import DataLoader, Subset\n",
    "train_dataloaders = DataLoader(mnist_trainset, # MNIST trainset\n",
    "                                batch_size=batch_size, # 100 batches\n",
    "                                shuffle=True, # Shuffle the batches\n",
    "                                drop_last=False # Dont drop the last batch\n",
    "                     )\n",
    "\n",
    "print(len(train_dataloaders)) # Length will be 600 because there are 600 batches\n",
    "\n",
    "test_dataloader  = DataLoader(mnist_testset, # MNIST testset\n",
    "                              batch_size=batch_size, # 100 batches\n",
    "                              shuffle=False)\n",
    "\n",
    "print(len(test_dataloader)) # Length will be 100 because there are 100 batches\n",
    "\n",
    "dataiter = iter(train_dataloaders) # iterating the trainset batches\n",
    "(train_features, train_labels) = next(dataiter) # Take the first minibatch\n",
    "print(train_features.shape) # features of one minibatch will have the 4D size of [100, 1, 28, 28]\n",
    "\n",
    "train_features.resize_(100,784) # We need to reshape X from 4D to 2D for our future calculations\n",
    "print(train_features.shape)\n",
    "\n",
    "print(train_labels.shape) # # labels of one minibatch will have the size of [100]"
   ]
  },
  {
   "cell_type": "code",
   "execution_count": 4,
   "metadata": {},
   "outputs": [],
   "source": [
    "# The long version of linear model\n",
    "\n",
    "class Linear(nn.Module):\n",
    "    def __init__(self, in_features, out_features, bias=True):\n",
    "        super().__init__()\n",
    "        self.in_features = in_features # Defining input features\n",
    "        self.out_features = out_features # Defining output features\n",
    "        self.bias = bias # Defining bias\n",
    "        self.weight = torch.nn.Parameter(torch.Tensor(out_features, in_features)) # Defining weight matrix\n",
    "        if bias:\n",
    "            self.bias = torch.nn.Parameter(torch.Tensor(out_features))\n",
    "        else:\n",
    "            self.register_parameter('bias', None)\n",
    "        self.reset_parameters()\n",
    "        \n",
    "    def reset_parameters(self):\n",
    "        torch.nn.init.kaiming_uniform_(self.weight, a=math.sqrt(5))\n",
    "        if self.bias is not None:\n",
    "            fan_in, _ = torch.nn.init._calculate_fan_in_and_fan_out(self.weight)\n",
    "            bound = 1 / math.sqrt(fan_in)\n",
    "            torch.nn.init.uniform_(self.bias, -bound, bound)\n",
    "        \n",
    "    def forward(self, input):\n",
    "        x, y = input.shape\n",
    "        if y != self.in_features:\n",
    "            print(f'Wrong Input Features. Please use tensor with {self.in_features} Input Features')\n",
    "            return 0\n",
    "        output = input.matmul(self.weight.t()) # Matrix multiplication between Weights and input\n",
    "        if self.bias is not None:\n",
    "            output += self.bias # Adding biases if there is any\n",
    "        ret = output\n",
    "        return ret\n",
    "    \n",
    "    def extra_repr(self):\n",
    "        return 'in_features={}, out_features={}, bias={}'.format(\n",
    "            self.in_features, self.out_features, self.bias is not None\n",
    "        )"
   ]
  },
  {
   "cell_type": "code",
   "execution_count": 5,
   "metadata": {},
   "outputs": [],
   "source": [
    "# Building Multilayer Perceptron Model with two chain layers\n",
    "class MLP(nn.Module):\n",
    "    def __init__(self, input_size = 784, output_size =10, pdrop=0):\n",
    "        super().__init__()\n",
    "        self.layer1 = Linear(input_size,64) # First layer that takes the size 784 and gives the output of 64\n",
    "        self.layer2 = Linear(64,output_size) # Second layer that takes the size 64 and gives the output of 10\n",
    "        self.dropout = nn.Dropout(pdrop) # dropout with probability pdrop (default: 0)\n",
    "\n",
    "    def forward(self,X):\n",
    "        X=self.dropout(X) # Dropout\n",
    "        X = nn.functional.relu(self.layer1(X)) # First layer with nonlinear function f (default: relu)\n",
    "        X = self.layer2(X) # Second Layer\n",
    "        return X\n",
    "\n",
    "    def compute_l1_loss(self, w): # Computing L1 norm penalty\n",
    "        return torch.abs(w).sum() \n",
    "    \n",
    "    def compute_l2_loss(self, w): # Computing L2 norm penalty\n",
    "        return torch.pow(w,2).sum()"
   ]
  },
  {
   "cell_type": "markdown",
   "metadata": {},
   "source": [
    "## Stochastic Gradient Descent"
   ]
  },
  {
   "cell_type": "code",
   "execution_count": 6,
   "metadata": {},
   "outputs": [],
   "source": [
    "# Iterating the minibatches and saving the results for trainset and testset\n",
    "\n",
    "def train_loop(dataloader, model, loss_fn,loss_array, optimizer, l1_lambda=0, l2_lambda=0):\n",
    "    size = len(dataloader.dataset)\n",
    "    for batch, (X, y) in enumerate(dataloader): # Batch number , X for each batch, y for each batch\n",
    "        # Compute prediction and loss\n",
    "        X.resize_(100,784) # Resizing X from 4D to 2D\n",
    "        pred = model(X) # Getting predictions\n",
    "        loss = loss_fn(pred, y) # Calculating loss for each minibatch\n",
    "\n",
    "        # Only apply regularization during training, only to weights, not biases.\n",
    "\n",
    "        # Compute L1 loss component\n",
    "        if l1_lambda !=0: #L1 norm penalty applied if λ1!=0\n",
    "            l1_parameters = []\n",
    "            for parameter in model.parameters():\n",
    "                l1_parameters.append(parameter.view(-1))\n",
    "            l1 = l1_lambda * model.compute_l1_loss(torch.cat(l1_parameters))\n",
    "        \n",
    "            # Add L1 loss component\n",
    "            loss += l1\n",
    "        \n",
    "        # Compute L2 loss component\n",
    "        if l2_lambda !=0: #L2 norm penalty applied if λ1!=0\n",
    "            l2_parameters = []\n",
    "            for parameter in model.parameters():\n",
    "                l2_parameters.append(parameter.view(-1))\n",
    "            l2 = l2_lambda * model.compute_l2_loss(torch.cat(l2_parameters))\n",
    "        \n",
    "            # Add L2 loss component\n",
    "            loss += l2\n",
    "\n",
    "        # Backpropagation\n",
    "        optimizer.zero_grad()\n",
    "        loss.backward()\n",
    "        optimizer.step()\n",
    "\n",
    "        if batch % 100 == 0: # Printing losses at each 100 batches\n",
    "            loss, current = loss.item(), batch * len(X)\n",
    "            print(f\"loss: {loss:>7f}  [{current:>5d}/{size:>5d}]\")\n",
    "\n",
    "        if batch % 600 == 0: # saving loss of each epoch\n",
    "            loss_array.append(loss)\n",
    "\n",
    "\n",
    "def test_loop(dataloader, model, loss_fn, loss_array):\n",
    "    size = len(dataloader.dataset)\n",
    "    num_batches = len(dataloader)\n",
    "    test_loss, correct = 0, 0\n",
    "\n",
    "    with torch.no_grad():\n",
    "        for X, y in dataloader: # X for each batch, y for each batch\n",
    "            X.resize_(100,784) # Resizing X from 4D to 2D\n",
    "            pred = model(X) # Getting predictions\n",
    "            test_loss += loss_fn(pred, y).item() # Calculating total loss\n",
    "            correct += (pred.argmax(1) == y).type(torch.float).sum().item() # Calculating accuracy\n",
    "\n",
    "    test_loss /= num_batches # Calculating average loss\n",
    "    loss_array.append(test_loss) # saving loss of each epoch\n",
    "    correct /= size  # Calculating average accuracy\n",
    "    print(f\"Test Error: \\n Accuracy: {(100*correct):>0.1f}%, Avg loss: {test_loss:>8f} \\n\")"
   ]
  },
  {
   "cell_type": "code",
   "execution_count": 7,
   "metadata": {},
   "outputs": [
    {
     "name": "stdout",
     "output_type": "stream",
     "text": [
      "Epoch 1\n",
      "-------------------------------\n",
      "loss: 2.410210  [    0/60000]\n",
      "loss: 0.679566  [10000/60000]\n",
      "loss: 0.538285  [20000/60000]\n",
      "loss: 0.475270  [30000/60000]\n",
      "loss: 0.430943  [40000/60000]\n",
      "loss: 0.472410  [50000/60000]\n",
      "Test Error: \n",
      " Accuracy: 90.1%, Avg loss: 0.343265 \n",
      "\n",
      "Epoch 2\n",
      "-------------------------------\n",
      "loss: 0.495477  [    0/60000]\n",
      "loss: 0.699406  [10000/60000]\n",
      "loss: 0.539950  [20000/60000]\n",
      "loss: 0.455678  [30000/60000]\n",
      "loss: 0.488103  [40000/60000]\n",
      "loss: 0.523717  [50000/60000]\n",
      "Test Error: \n",
      " Accuracy: 91.8%, Avg loss: 0.296728 \n",
      "\n",
      "Epoch 3\n",
      "-------------------------------\n",
      "loss: 0.407029  [    0/60000]\n",
      "loss: 0.295619  [10000/60000]\n",
      "loss: 0.533820  [20000/60000]\n",
      "loss: 0.497963  [30000/60000]\n",
      "loss: 0.334518  [40000/60000]\n",
      "loss: 0.469609  [50000/60000]\n",
      "Test Error: \n",
      " Accuracy: 92.7%, Avg loss: 0.263137 \n",
      "\n",
      "Epoch 4\n",
      "-------------------------------\n",
      "loss: 0.453773  [    0/60000]\n",
      "loss: 0.391284  [10000/60000]\n",
      "loss: 0.347292  [20000/60000]\n",
      "loss: 0.469896  [30000/60000]\n",
      "loss: 0.371821  [40000/60000]\n",
      "loss: 0.496621  [50000/60000]\n",
      "Test Error: \n",
      " Accuracy: 93.1%, Avg loss: 0.244581 \n",
      "\n",
      "Epoch 5\n",
      "-------------------------------\n",
      "loss: 0.434741  [    0/60000]\n",
      "loss: 0.276847  [10000/60000]\n",
      "loss: 0.357809  [20000/60000]\n",
      "loss: 0.327712  [30000/60000]\n",
      "loss: 0.294852  [40000/60000]\n",
      "loss: 0.298940  [50000/60000]\n",
      "Test Error: \n",
      " Accuracy: 94.0%, Avg loss: 0.219713 \n",
      "\n",
      "Done!\n"
     ]
    }
   ],
   "source": [
    "loss_fn = nn.CrossEntropyLoss()\n",
    "model = MLP(pdrop=0.2) # With dropout\n",
    "optimizer = torch.optim.SGD(model.parameters(), lr=lr_rate)\n",
    "train_loss_array, test_loss_array = [],[]\n",
    "\n",
    "epochs = 5\n",
    "for t in range(epochs): # Iterating 5 epoches\n",
    "    print(f\"Epoch {t+1}\\n-------------------------------\")\n",
    "    train_loop(train_dataloaders, model, loss_fn,train_loss_array, optimizer,l1_lambda=0.0001,l2_lambda=0.001)\n",
    "    test_loop(test_dataloader, model, loss_fn,test_loss_array)\n",
    "print(\"Done!\")"
   ]
  },
  {
   "cell_type": "code",
   "execution_count": 8,
   "metadata": {},
   "outputs": [
    {
     "data": {
      "text/plain": [
       "Text(0.5, 1.0, 'Loss with Nonlinearity and Dropout')"
      ]
     },
     "execution_count": 8,
     "metadata": {},
     "output_type": "execute_result"
    },
    {
     "data": {
      "image/png": "[encoded data removed]",
      "text/plain": [
       "<Figure size 432x288 with 1 Axes>"
      ]
     },
     "metadata": {
      "needs_background": "light"
     },
     "output_type": "display_data"
    }
   ],
   "source": [
    "# Visualization\n",
    "\n",
    "test_loss_array = Tensor(test_loss_array)\n",
    "train_loss_array = Tensor(train_loss_array)\n",
    "\n",
    "plt.plot(range(epochs),train_loss_array, label='Trainloss', color = 'red')\n",
    "plt.plot(range(epochs),test_loss_array, label='Testloss', color = 'blue')\n",
    "plt.xlabel('Epochs')\n",
    "plt.ylabel('Loss')\n",
    "plt.legend()\n",
    "plt.title('Loss with Nonlinearity and Dropout')"
   ]
  },
  {
   "cell_type": "code",
   "execution_count": 9,
   "metadata": {},
   "outputs": [
    {
     "name": "stdout",
     "output_type": "stream",
     "text": [
      "Epoch 1\n",
      "-------------------------------\n",
      "loss: 2.417246  [    0/60000]\n",
      "loss: 0.746493  [10000/60000]\n",
      "loss: 0.575399  [20000/60000]\n",
      "loss: 0.661398  [30000/60000]\n",
      "loss: 0.465500  [40000/60000]\n",
      "loss: 0.439706  [50000/60000]\n",
      "Test Error: \n",
      " Accuracy: 91.5%, Avg loss: 0.320047 \n",
      "\n",
      "Epoch 2\n",
      "-------------------------------\n",
      "loss: 0.442300  [    0/60000]\n",
      "loss: 0.403686  [10000/60000]\n",
      "loss: 0.511215  [20000/60000]\n",
      "loss: 0.478545  [30000/60000]\n",
      "loss: 0.545328  [40000/60000]\n",
      "loss: 0.366601  [50000/60000]\n",
      "Test Error: \n",
      " Accuracy: 92.6%, Avg loss: 0.268525 \n",
      "\n",
      "Epoch 3\n",
      "-------------------------------\n",
      "loss: 0.424601  [    0/60000]\n",
      "loss: 0.483932  [10000/60000]\n",
      "loss: 0.468768  [20000/60000]\n",
      "loss: 0.574575  [30000/60000]\n",
      "loss: 0.399648  [40000/60000]\n",
      "loss: 0.359474  [50000/60000]\n",
      "Test Error: \n",
      " Accuracy: 93.1%, Avg loss: 0.239474 \n",
      "\n",
      "Epoch 4\n",
      "-------------------------------\n",
      "loss: 0.444643  [    0/60000]\n",
      "loss: 0.384457  [10000/60000]\n",
      "loss: 0.393821  [20000/60000]\n",
      "loss: 0.298246  [30000/60000]\n",
      "loss: 0.415817  [40000/60000]\n",
      "loss: 0.530410  [50000/60000]\n",
      "Test Error: \n",
      " Accuracy: 93.8%, Avg loss: 0.219205 \n",
      "\n",
      "Epoch 5\n",
      "-------------------------------\n",
      "loss: 0.411830  [    0/60000]\n",
      "loss: 0.490097  [10000/60000]\n",
      "loss: 0.315987  [20000/60000]\n",
      "loss: 0.380476  [30000/60000]\n",
      "loss: 0.346273  [40000/60000]\n",
      "loss: 0.468415  [50000/60000]\n",
      "Test Error: \n",
      " Accuracy: 94.3%, Avg loss: 0.206597 \n",
      "\n",
      "Done!\n"
     ]
    }
   ],
   "source": [
    "# Only Extracting the Dropout\n",
    "\n",
    "loss_fn = nn.CrossEntropyLoss()\n",
    "model = MLP() # Without dropout\n",
    "optimizer = torch.optim.SGD(model.parameters(), lr=lr_rate)\n",
    "train_loss_array_woutpdrop, test_loss_array_woutpdrop = [],[]\n",
    "\n",
    "epochs = 5\n",
    "for t in range(epochs):\n",
    "    print(f\"Epoch {t+1}\\n-------------------------------\")\n",
    "    train_loop(train_dataloaders, model, loss_fn,train_loss_array_woutpdrop, optimizer,l1_lambda=0.0001,l2_lambda=0.001)\n",
    "    test_loop(test_dataloader, model, loss_fn,test_loss_array_woutpdrop)\n",
    "print(\"Done!\")"
   ]
  },
  {
   "cell_type": "code",
   "execution_count": 10,
   "metadata": {},
   "outputs": [
    {
     "data": {
      "text/plain": [
       "Text(0.5, 1.0, 'Loss without Dropout')"
      ]
     },
     "execution_count": 10,
     "metadata": {},
     "output_type": "execute_result"
    },
    {
     "data": {
      "image/png": "[encoded data removed]",
      "text/plain": [
       "<Figure size 432x288 with 1 Axes>"
      ]
     },
     "metadata": {
      "needs_background": "light"
     },
     "output_type": "display_data"
    }
   ],
   "source": [
    "# Visualization\n",
    "\n",
    "test_loss_array_woutpdrop = Tensor(test_loss_array_woutpdrop)\n",
    "train_loss_array_woutpdrop = Tensor(train_loss_array_woutpdrop)\n",
    "\n",
    "plt.plot(range(epochs),train_loss_array, label='Trainloss', color = 'red')\n",
    "plt.plot(range(epochs),test_loss_array, label='Testloss', color = 'blue')\n",
    "plt.plot(range(epochs),train_loss_array_woutpdrop, label='Trlosswoutpdrop', color = 'purple')\n",
    "plt.plot(range(epochs),test_loss_array_woutpdrop, label='Tslosswoutpdrop', color = 'green')\n",
    "plt.xlabel('Epochs')\n",
    "plt.ylabel('Loss')\n",
    "plt.legend()\n",
    "plt.title('Loss without Dropout')"
   ]
  },
  {
   "cell_type": "markdown",
   "metadata": {},
   "source": [
    "Note the following observations\n",
    "* Training loss is lower without Dropout but test loss is higher without Dropout. This means the model overfitted without Dropout\n",
    "* The loss convergence is smoother without Dropout, indicating the random noise introduced by Dropout."
   ]
  },
  {
   "cell_type": "code",
   "execution_count": 11,
   "metadata": {},
   "outputs": [],
   "source": [
    "# MLP Model without Nonlinearity\n",
    "\n",
    "class MLP_Identity(nn.Module):\n",
    "    def __init__(self, input_size = 784, output_size =10, pdrop=0):\n",
    "        super().__init__()\n",
    "        self.layer1 = Linear(input_size,64)\n",
    "        self.layer2 = Linear(64,output_size)\n",
    "        self.dropout = nn.Dropout(pdrop)\n",
    "\n",
    "    def forward(self,X):\n",
    "        X=self.dropout(X)\n",
    "        X = self.layer1(X)\n",
    "        X = self.layer2(X)\n",
    "        return X\n",
    "\n",
    "    def compute_l1_loss(self, w):\n",
    "        return torch.abs(w).sum()\n",
    "    \n",
    "    def compute_l2_loss(self, w):\n",
    "        return torch.pow(w,2).sum()\n"
   ]
  },
  {
   "cell_type": "code",
   "execution_count": 12,
   "metadata": {},
   "outputs": [
    {
     "name": "stdout",
     "output_type": "stream",
     "text": [
      "Epoch 1\n",
      "-------------------------------\n",
      "loss: 2.463857  [    0/60000]\n",
      "loss: 0.791495  [10000/60000]\n",
      "loss: 0.485068  [20000/60000]\n",
      "loss: 0.666346  [30000/60000]\n",
      "loss: 0.544231  [40000/60000]\n",
      "loss: 0.455416  [50000/60000]\n",
      "Test Error: \n",
      " Accuracy: 89.4%, Avg loss: 0.364830 \n",
      "\n",
      "Epoch 2\n",
      "-------------------------------\n",
      "loss: 0.492007  [    0/60000]\n",
      "loss: 0.505198  [10000/60000]\n",
      "loss: 0.508603  [20000/60000]\n",
      "loss: 0.801441  [30000/60000]\n",
      "loss: 0.368024  [40000/60000]\n",
      "loss: 0.487970  [50000/60000]\n",
      "Test Error: \n",
      " Accuracy: 90.3%, Avg loss: 0.343523 \n",
      "\n",
      "Epoch 3\n",
      "-------------------------------\n",
      "loss: 0.619876  [    0/60000]\n",
      "loss: 0.488423  [10000/60000]\n",
      "loss: 0.489813  [20000/60000]\n",
      "loss: 0.448934  [30000/60000]\n",
      "loss: 0.610130  [40000/60000]\n",
      "loss: 0.398318  [50000/60000]\n",
      "Test Error: \n",
      " Accuracy: 90.6%, Avg loss: 0.338867 \n",
      "\n",
      "Epoch 4\n",
      "-------------------------------\n",
      "loss: 0.544497  [    0/60000]\n",
      "loss: 0.432023  [10000/60000]\n",
      "loss: 0.482754  [20000/60000]\n",
      "loss: 0.485790  [30000/60000]\n",
      "loss: 0.356208  [40000/60000]\n",
      "loss: 0.620761  [50000/60000]\n",
      "Test Error: \n",
      " Accuracy: 90.6%, Avg loss: 0.336385 \n",
      "\n",
      "Epoch 5\n",
      "-------------------------------\n",
      "loss: 0.624067  [    0/60000]\n",
      "loss: 0.468636  [10000/60000]\n",
      "loss: 0.685954  [20000/60000]\n",
      "loss: 0.420326  [30000/60000]\n",
      "loss: 0.338136  [40000/60000]\n",
      "loss: 0.609524  [50000/60000]\n",
      "Test Error: \n",
      " Accuracy: 90.3%, Avg loss: 0.339978 \n",
      "\n",
      "Done!\n"
     ]
    }
   ],
   "source": [
    "loss_fn = nn.CrossEntropyLoss()\n",
    "model = MLP_Identity(pdrop=0.2) # With Dropout\n",
    "optimizer = torch.optim.SGD(model.parameters(), lr=lr_rate)\n",
    "train_loss_array_woutnonlin, test_loss_array_woutnonlin = [],[]\n",
    "\n",
    "epochs = 5\n",
    "for t in range(epochs):\n",
    "    print(f\"Epoch {t+1}\\n-------------------------------\")\n",
    "    train_loop(train_dataloaders, model, loss_fn,train_loss_array_woutnonlin, optimizer,l1_lambda=0.0001,l2_lambda=0.001)\n",
    "    test_loop(test_dataloader, model, loss_fn,test_loss_array_woutnonlin)\n",
    "print(\"Done!\")"
   ]
  },
  {
   "cell_type": "code",
   "execution_count": 13,
   "metadata": {},
   "outputs": [
    {
     "data": {
      "text/plain": [
       "Text(0.5, 1.0, 'Loss without Nonlinearity')"
      ]
     },
     "execution_count": 13,
     "metadata": {},
     "output_type": "execute_result"
    },
    {
     "data": {
      "image/png": "[encoded data removed]",
      "text/plain": [
       "<Figure size 432x288 with 1 Axes>"
      ]
     },
     "metadata": {
      "needs_background": "light"
     },
     "output_type": "display_data"
    }
   ],
   "source": [
    "#Visualization\n",
    "\n",
    "test_loss_array_woutnonlin = Tensor(test_loss_array_woutnonlin)\n",
    "train_loss_array_woutnonlin = Tensor(train_loss_array_woutnonlin)\n",
    "\n",
    "plt.plot(range(epochs),train_loss_array, label='Trainloss', color = 'red')\n",
    "plt.plot(range(epochs),test_loss_array, label='Testloss', color = 'blue')\n",
    "plt.plot(range(epochs),train_loss_array_woutnonlin, label='Trlosswoutnonlin', color = 'purple')\n",
    "plt.plot(range(epochs),test_loss_array_woutnonlin, label='Tslosswoutnonlin', color = 'green')\n",
    "plt.xlabel('Epochs')\n",
    "plt.ylabel('Loss')\n",
    "plt.legend()\n",
    "plt.title('Loss without Nonlinearity')"
   ]
  },
  {
   "cell_type": "markdown",
   "metadata": {},
   "source": [
    "Note the following observations\n",
    "* Both training and testing losses are higher without nonlinearity\n",
    "* We see the effect of Dropout in the form of noise in both\n",
    "* Nonlinearity is more critical than Dropout"
   ]
  }
 ],
 "metadata": {
  "kernelspec": {
   "display_name": "Python 3.9.13 64-bit (microsoft store)",
   "language": "python",
   "name": "python3"
  },
  "language_info": {
   "codemirror_mode": {
    "name": "ipython",
    "version": 3
   },
   "file_extension": ".py",
   "mimetype": "text/x-python",
   "name": "python",
   "nbconvert_exporter": "python",
   "pygments_lexer": "ipython3",
   "version": "3.9.13"
  },
  "orig_nbformat": 4,
  "vscode": {
   "interpreter": {
    "hash": "23b4a3e8622309bcc6db3d5cc6eb73d60ab98d9ec23bad6a26b709981ccb403a"
   }
  }
 },
 "nbformat": 4,
 "nbformat_minor": 2
}
